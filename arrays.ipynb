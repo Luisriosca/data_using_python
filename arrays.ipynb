{
 "cells": [
  {
   "cell_type": "code",
   "execution_count": 1,
   "id": "fe30ab3e",
   "metadata": {},
   "outputs": [],
   "source": [
    "import numpy as np"
   ]
  },
  {
   "cell_type": "markdown",
   "id": "f84901b4",
   "metadata": {},
   "source": [
    "***\n",
    "#### Los Array de Numpy son mucho mejores a la hora de ser procesados por la computadora, lo que agiliza la ejecución de los programas "
   ]
  },
  {
   "cell_type": "code",
   "execution_count": null,
   "id": "a4223887",
   "metadata": {},
   "outputs": [],
   "source": []
  },
  {
   "cell_type": "code",
   "execution_count": 2,
   "id": "c94c109d",
   "metadata": {},
   "outputs": [
    {
     "name": "stdout",
     "output_type": "stream",
     "text": [
      "1.20.1\n"
     ]
    }
   ],
   "source": [
    "print(np.__version__)"
   ]
  },
  {
   "cell_type": "code",
   "execution_count": 3,
   "id": "897aa415",
   "metadata": {},
   "outputs": [],
   "source": [
    "arr = np.array([1,2,3,4,5,6,7,8,9])"
   ]
  },
  {
   "cell_type": "code",
   "execution_count": 4,
   "id": "3c0214c9",
   "metadata": {},
   "outputs": [
    {
     "data": {
      "text/plain": [
       "array([1, 2, 3, 4, 5, 6, 7, 8, 9])"
      ]
     },
     "execution_count": 4,
     "metadata": {},
     "output_type": "execute_result"
    }
   ],
   "source": [
    "arr"
   ]
  },
  {
   "cell_type": "code",
   "execution_count": 5,
   "id": "6d0676b3",
   "metadata": {},
   "outputs": [
    {
     "name": "stdout",
     "output_type": "stream",
     "text": [
      "[1 2 3 4 5 6 7 8 9]\n"
     ]
    }
   ],
   "source": [
    "print(arr)"
   ]
  },
  {
   "cell_type": "code",
   "execution_count": 6,
   "id": "424d4e4a",
   "metadata": {},
   "outputs": [
    {
     "name": "stdout",
     "output_type": "stream",
     "text": [
      "<class 'numpy.ndarray'>\n"
     ]
    }
   ],
   "source": [
    "print(type(arr))"
   ]
  },
  {
   "cell_type": "code",
   "execution_count": 7,
   "id": "9c85a747",
   "metadata": {},
   "outputs": [
    {
     "data": {
      "text/plain": [
       "array([10, 20, 30, 40, 50, 60, 70, 80, 90])"
      ]
     },
     "execution_count": 7,
     "metadata": {},
     "output_type": "execute_result"
    }
   ],
   "source": [
    "arr * 10"
   ]
  },
  {
   "cell_type": "code",
   "execution_count": 8,
   "id": "e2fa3c45",
   "metadata": {},
   "outputs": [],
   "source": [
    "arr2d = np.array([[1,2,3],[4,5,6]])"
   ]
  },
  {
   "cell_type": "code",
   "execution_count": 9,
   "id": "e28975a8",
   "metadata": {},
   "outputs": [
    {
     "name": "stdout",
     "output_type": "stream",
     "text": [
      "[[1 2 3]\n",
      " [4 5 6]]\n"
     ]
    }
   ],
   "source": [
    "print(arr2d)"
   ]
  },
  {
   "cell_type": "code",
   "execution_count": 10,
   "id": "bba188d3",
   "metadata": {},
   "outputs": [],
   "source": [
    "arr3d = np.array([[[1,2,3],[4,5,6]],[[1,2,3],[4,5,6]]])"
   ]
  },
  {
   "cell_type": "code",
   "execution_count": 11,
   "id": "7cc5b048",
   "metadata": {},
   "outputs": [
    {
     "name": "stdout",
     "output_type": "stream",
     "text": [
      "[[[1 2 3]\n",
      "  [4 5 6]]\n",
      "\n",
      " [[1 2 3]\n",
      "  [4 5 6]]]\n"
     ]
    }
   ],
   "source": [
    "print(arr3d)"
   ]
  },
  {
   "cell_type": "code",
   "execution_count": 12,
   "id": "229bd6d0",
   "metadata": {},
   "outputs": [
    {
     "name": "stdout",
     "output_type": "stream",
     "text": [
      "3\n"
     ]
    }
   ],
   "source": [
    "print(arr3d.ndim)\n",
    "#Saber el numero de dimensiones"
   ]
  },
  {
   "cell_type": "code",
   "execution_count": 13,
   "id": "35f38fec",
   "metadata": {},
   "outputs": [],
   "source": [
    "arr6d = np.array([1,2], ndmin=6)"
   ]
  },
  {
   "cell_type": "code",
   "execution_count": 14,
   "id": "87ca2612",
   "metadata": {},
   "outputs": [
    {
     "name": "stdout",
     "output_type": "stream",
     "text": [
      "6\n"
     ]
    }
   ],
   "source": [
    "print(arr6d.ndim)"
   ]
  },
  {
   "cell_type": "code",
   "execution_count": 15,
   "id": "a7af6d67",
   "metadata": {},
   "outputs": [
    {
     "data": {
      "text/plain": [
       "9"
      ]
     },
     "execution_count": 15,
     "metadata": {},
     "output_type": "execute_result"
    }
   ],
   "source": [
    "arr.size "
   ]
  },
  {
   "cell_type": "code",
   "execution_count": 16,
   "id": "a21ad420",
   "metadata": {},
   "outputs": [
    {
     "data": {
      "text/plain": [
       "6"
      ]
     },
     "execution_count": 16,
     "metadata": {},
     "output_type": "execute_result"
    }
   ],
   "source": [
    "arr2d.size"
   ]
  },
  {
   "cell_type": "code",
   "execution_count": 17,
   "id": "2a4a7368",
   "metadata": {},
   "outputs": [
    {
     "data": {
      "text/plain": [
       "12"
      ]
     },
     "execution_count": 17,
     "metadata": {},
     "output_type": "execute_result"
    }
   ],
   "source": [
    "arr3d.size"
   ]
  },
  {
   "cell_type": "code",
   "execution_count": 18,
   "id": "00d7bae5",
   "metadata": {},
   "outputs": [
    {
     "data": {
      "text/plain": [
       "2"
      ]
     },
     "execution_count": 18,
     "metadata": {},
     "output_type": "execute_result"
    }
   ],
   "source": [
    "arr6d.size"
   ]
  },
  {
   "cell_type": "markdown",
   "id": "9eaaed91",
   "metadata": {},
   "source": [
    "#Size es para el tamaño del array"
   ]
  },
  {
   "cell_type": "code",
   "execution_count": 19,
   "id": "a02af7b9",
   "metadata": {},
   "outputs": [
    {
     "name": "stdout",
     "output_type": "stream",
     "text": [
      "1\n",
      "2\n",
      "9\n"
     ]
    }
   ],
   "source": [
    "print(arr[0])\n",
    "print(arr[1])\n",
    "print(arr[8])"
   ]
  },
  {
   "cell_type": "code",
   "execution_count": 20,
   "id": "1aa70f04",
   "metadata": {},
   "outputs": [
    {
     "name": "stdout",
     "output_type": "stream",
     "text": [
      "9\n"
     ]
    }
   ],
   "source": [
    "print(arr[-1])"
   ]
  },
  {
   "cell_type": "code",
   "execution_count": 21,
   "id": "2d332074",
   "metadata": {},
   "outputs": [
    {
     "name": "stdout",
     "output_type": "stream",
     "text": [
      "8\n",
      "1\n"
     ]
    }
   ],
   "source": [
    "print(arr[-2])\n",
    "print(arr[-9])"
   ]
  },
  {
   "cell_type": "markdown",
   "id": "f66e8a31",
   "metadata": {},
   "source": [
    "# Elementos de delante hacia atras "
   ]
  },
  {
   "cell_type": "code",
   "execution_count": 22,
   "id": "74ff2e85",
   "metadata": {},
   "outputs": [
    {
     "name": "stdout",
     "output_type": "stream",
     "text": [
      "[[1 2 3]\n",
      " [4 5 6]]\n",
      "6\n",
      "3\n"
     ]
    }
   ],
   "source": [
    "print(arr2d)\n",
    "print(arr2d[1,2])\n",
    "print(arr2d[0,2])"
   ]
  },
  {
   "cell_type": "code",
   "execution_count": 23,
   "id": "1738fb3e",
   "metadata": {},
   "outputs": [
    {
     "name": "stdout",
     "output_type": "stream",
     "text": [
      "[1 2 3 4 5 6 7 8 9]\n",
      "[3 4]\n"
     ]
    }
   ],
   "source": [
    "#Corta r un array ----- array[start:end] incluye el primero pero exluye el de la posición final\n",
    "print(arr)\n",
    "print(arr[2:4])"
   ]
  },
  {
   "cell_type": "code",
   "execution_count": 24,
   "id": "b3fe25ed",
   "metadata": {},
   "outputs": [
    {
     "name": "stdout",
     "output_type": "stream",
     "text": [
      "[3 4 5 6 7 8 9]\n"
     ]
    }
   ],
   "source": [
    "print(arr[2:])"
   ]
  },
  {
   "cell_type": "code",
   "execution_count": 25,
   "id": "c5e56770",
   "metadata": {},
   "outputs": [
    {
     "name": "stdout",
     "output_type": "stream",
     "text": [
      "[1 2 3 4 5]\n"
     ]
    }
   ],
   "source": [
    "print(arr[:5])"
   ]
  },
  {
   "cell_type": "code",
   "execution_count": 26,
   "id": "6e1cffca",
   "metadata": {},
   "outputs": [
    {
     "name": "stdout",
     "output_type": "stream",
     "text": [
      "[1 4 7]\n"
     ]
    }
   ],
   "source": [
    "print(arr[0:9:3])\n",
    "\n",
    "#Este ultimo valor permite salatar de 3 en 3"
   ]
  },
  {
   "cell_type": "code",
   "execution_count": 27,
   "id": "3abf9d05",
   "metadata": {},
   "outputs": [
    {
     "name": "stdout",
     "output_type": "stream",
     "text": [
      "[1 3 5 7 9]\n"
     ]
    }
   ],
   "source": [
    "print(arr[::2]) #Así sin valores obvia que es de principio a fin"
   ]
  },
  {
   "cell_type": "markdown",
   "id": "b769b3cd",
   "metadata": {},
   "source": [
    "# Slicing de un array en dos dimensiones:"
   ]
  },
  {
   "cell_type": "code",
   "execution_count": 28,
   "id": "d3a3cae7",
   "metadata": {},
   "outputs": [
    {
     "name": "stdout",
     "output_type": "stream",
     "text": [
      "[[1 2 3]\n",
      " [4 5 6]]\n"
     ]
    }
   ],
   "source": [
    "print(arr2d)"
   ]
  },
  {
   "cell_type": "code",
   "execution_count": 29,
   "id": "3e069302",
   "metadata": {},
   "outputs": [
    {
     "name": "stdout",
     "output_type": "stream",
     "text": [
      "[[2]\n",
      " [5]]\n"
     ]
    }
   ],
   "source": [
    "print(arr2d[0:2, 1:2])"
   ]
  },
  {
   "cell_type": "code",
   "execution_count": 30,
   "id": "fc43173b",
   "metadata": {},
   "outputs": [
    {
     "name": "stdout",
     "output_type": "stream",
     "text": [
      "[[2 3]\n",
      " [5 6]]\n"
     ]
    }
   ],
   "source": [
    "print(arr2d[0:3, 1:3])"
   ]
  },
  {
   "cell_type": "markdown",
   "id": "12af7dc1",
   "metadata": {},
   "source": [
    "# Valorar la velocidad de los arreglos vs la lista:"
   ]
  },
  {
   "cell_type": "code",
   "execution_count": 31,
   "id": "c578cfdc",
   "metadata": {},
   "outputs": [
    {
     "name": "stdout",
     "output_type": "stream",
     "text": [
      "0:00:00.097006\n"
     ]
    }
   ],
   "source": [
    "from datetime import datetime\n",
    "py_list = [i for i in range(1000000)]\n",
    "start = datetime.now()\n",
    "py_list = [i+3 for i in py_list]\n",
    "end = datetime.now()\n",
    "print(end - start)"
   ]
  },
  {
   "cell_type": "code",
   "execution_count": 32,
   "id": "ff40e7b9",
   "metadata": {},
   "outputs": [
    {
     "name": "stdout",
     "output_type": "stream",
     "text": [
      "0:00:00.002008\n"
     ]
    }
   ],
   "source": [
    "np_array = np.array([i for i in range (1000000)])\n",
    "start = datetime.now()\n",
    "np_array += 3\n",
    "end = datetime.now()\n",
    "print(end - start)"
   ]
  },
  {
   "cell_type": "code",
   "execution_count": 33,
   "id": "615c66d9",
   "metadata": {},
   "outputs": [
    {
     "name": "stdout",
     "output_type": "stream",
     "text": [
      "[1 2 3 4 5 6 7 8 9]\n",
      "(9,)\n"
     ]
    }
   ],
   "source": [
    "print(arr)\n",
    "print(arr.shape)"
   ]
  },
  {
   "cell_type": "code",
   "execution_count": 34,
   "id": "9ebe2dc4",
   "metadata": {},
   "outputs": [
    {
     "name": "stdout",
     "output_type": "stream",
     "text": [
      "[[1 2 3]\n",
      " [4 5 6]]\n",
      "(2, 3)\n"
     ]
    }
   ],
   "source": [
    "print(arr2d)\n",
    "print(arr2d.shape)"
   ]
  },
  {
   "cell_type": "code",
   "execution_count": 35,
   "id": "5fd82f7b",
   "metadata": {},
   "outputs": [
    {
     "name": "stdout",
     "output_type": "stream",
     "text": [
      "[[[1 2 3]\n",
      "  [4 5 6]]\n",
      "\n",
      " [[1 2 3]\n",
      "  [4 5 6]]]\n",
      "(2, 2, 3)\n"
     ]
    }
   ],
   "source": [
    "print(arr3d)\n",
    "print(arr3d.shape)"
   ]
  },
  {
   "cell_type": "code",
   "execution_count": 36,
   "id": "aca43026",
   "metadata": {},
   "outputs": [
    {
     "name": "stdout",
     "output_type": "stream",
     "text": [
      "[[1 2 3]\n",
      " [4 5 6]\n",
      " [7 8 9]]\n",
      "(3, 3)\n"
     ]
    }
   ],
   "source": [
    "reshapeArr = arr.reshape(3,3)\n",
    "print(reshapeArr)\n",
    "print(reshapeArr.shape)"
   ]
  },
  {
   "cell_type": "code",
   "execution_count": 37,
   "id": "f584e337",
   "metadata": {},
   "outputs": [
    {
     "name": "stdout",
     "output_type": "stream",
     "text": [
      "[1 2 3 4 5 6 1 2 3 4 5 6]\n"
     ]
    }
   ],
   "source": [
    "reshapeArr = arr3d.reshape(-1)\n",
    "print(reshapeArr)"
   ]
  },
  {
   "cell_type": "markdown",
   "id": "4a8a4910",
   "metadata": {},
   "source": [
    "## Realizar busquedas en un array"
   ]
  },
  {
   "cell_type": "code",
   "execution_count": 38,
   "id": "2742421a",
   "metadata": {},
   "outputs": [
    {
     "name": "stdout",
     "output_type": "stream",
     "text": [
      "[1 2 3 4 5 6 7 8 9]\n",
      "(array([8], dtype=int64),)\n"
     ]
    }
   ],
   "source": [
    "print(arr)\n",
    "search = np.where(arr == 9) ##Puede o no existir una posición\n",
    "print(search)"
   ]
  },
  {
   "cell_type": "markdown",
   "id": "24c7513e",
   "metadata": {},
   "source": [
    "## Ordenar un arreglo con SORT:"
   ]
  },
  {
   "cell_type": "code",
   "execution_count": 39,
   "id": "b1497fce",
   "metadata": {},
   "outputs": [
    {
     "name": "stdout",
     "output_type": "stream",
     "text": [
      "[ 0  1  2  3  4  5  7  8 64]\n"
     ]
    }
   ],
   "source": [
    "arrDes = np.array([1,5,2,7,8,4,64,3,0])\n",
    "print(np.sort(arrDes))"
   ]
  },
  {
   "cell_type": "code",
   "execution_count": 40,
   "id": "8e94d5a3",
   "metadata": {},
   "outputs": [
    {
     "name": "stdout",
     "output_type": "stream",
     "text": [
      "['Alberto' 'Maria' 'Patricia' 'Pedro']\n"
     ]
    }
   ],
   "source": [
    "arrSDes = np.array([\"Maria\", \"Pedro\", \"Alberto\", \"Patricia\"])\n",
    "print(np.sort(arrSDes))"
   ]
  },
  {
   "cell_type": "code",
   "execution_count": 41,
   "id": "faac639e",
   "metadata": {},
   "outputs": [
    {
     "name": "stdout",
     "output_type": "stream",
     "text": [
      "[[20 10 15]\n",
      " [ 6  9  1]]\n",
      "[[10 15 20]\n",
      " [ 1  6  9]]\n"
     ]
    }
   ],
   "source": [
    "arrDes2d = np.array([[20,10,15],[6,9,1]])\n",
    "print(arrDes2d)\n",
    "print(np.sort(arrDes2d))"
   ]
  },
  {
   "cell_type": "markdown",
   "id": "82a18881",
   "metadata": {},
   "source": [
    "## Filtrar:\n",
    "***"
   ]
  },
  {
   "cell_type": "code",
   "execution_count": 42,
   "id": "3e7b89ec",
   "metadata": {
    "scrolled": true
   },
   "outputs": [
    {
     "name": "stdout",
     "output_type": "stream",
     "text": [
      "[False False False False False  True  True  True  True]\n",
      "[6 7 8 9]\n"
     ]
    }
   ],
   "source": [
    "filtro = arr > 5\n",
    "newArr = arr[filtro]\n",
    "print(filtro)\n",
    "print(newArr)"
   ]
  },
  {
   "cell_type": "markdown",
   "id": "7c5c55c3",
   "metadata": {},
   "source": [
    "## Arange:\n",
    "Un arreglo ordenado\n",
    "***"
   ]
  },
  {
   "cell_type": "code",
   "execution_count": 93,
   "id": "b0be52be",
   "metadata": {},
   "outputs": [],
   "source": [
    "#help(np.arange)"
   ]
  },
  {
   "cell_type": "code",
   "execution_count": 44,
   "id": "7993fafb",
   "metadata": {},
   "outputs": [
    {
     "name": "stdout",
     "output_type": "stream",
     "text": [
      "[ 0  1  2  3  4  5  6  7  8  9 10 11 12 13 14 15 16 17 18 19 20 21 22 23\n",
      " 24 25 26 27 28 29 30 31 32 33 34 35 36 37 38 39 40 41 42 43 44 45 46 47\n",
      " 48 49]\n"
     ]
    }
   ],
   "source": [
    "arange = np.arange(50)\n",
    "print(arange)"
   ]
  },
  {
   "cell_type": "code",
   "execution_count": 45,
   "id": "b1fdae79",
   "metadata": {},
   "outputs": [
    {
     "name": "stdout",
     "output_type": "stream",
     "text": [
      "[25 26 27 28 29]\n"
     ]
    }
   ],
   "source": [
    "print(np.arange(25,30))"
   ]
  },
  {
   "cell_type": "code",
   "execution_count": 46,
   "id": "1ac440af",
   "metadata": {},
   "outputs": [
    {
     "name": "stdout",
     "output_type": "stream",
     "text": [
      "[25 30 35 40 45]\n"
     ]
    }
   ],
   "source": [
    "print(np.arange(25,50,5))"
   ]
  },
  {
   "cell_type": "markdown",
   "id": "ab612cfd",
   "metadata": {},
   "source": [
    "## Uso de la memoria de NumPy Array vs Listas de Python\n",
    "****"
   ]
  },
  {
   "cell_type": "code",
   "execution_count": 47,
   "id": "1bfebe4f",
   "metadata": {},
   "outputs": [
    {
     "name": "stdout",
     "output_type": "stream",
     "text": [
      "range(0, 1000)\n",
      "Tamaño de cada elemento de la lista en bytes:  48\n",
      "Tamaño total de la lista en bytes:  48000\n"
     ]
    }
   ],
   "source": [
    "import sys \n",
    "s = range(1000)\n",
    "print(s)\n",
    "print(\"Tamaño de cada elemento de la lista en bytes: \", sys.getsizeof(s))\n",
    "print(\"Tamaño total de la lista en bytes: \", sys.getsizeof(s)* len(s))"
   ]
  },
  {
   "cell_type": "code",
   "execution_count": 48,
   "id": "7ae377f9",
   "metadata": {},
   "outputs": [
    {
     "name": "stdout",
     "output_type": "stream",
     "text": [
      "Tamaño de cada elemento del NP Array en bytes:  4\n",
      "Tamaño total del NP Array en bytes:  4000\n"
     ]
    }
   ],
   "source": [
    "nS = np.arange(1000)\n",
    "#print(nS)\n",
    "print(\"Tamaño de cada elemento del NP Array en bytes: \", nS.itemsize)\n",
    "print(\"Tamaño total del NP Array en bytes: \", nS.itemsize * nS.size)"
   ]
  },
  {
   "cell_type": "markdown",
   "id": "69cc4235",
   "metadata": {},
   "source": [
    "## Arrays de ceros y unos.\n",
    "***"
   ]
  },
  {
   "cell_type": "code",
   "execution_count": 49,
   "id": "8adc5a6e",
   "metadata": {},
   "outputs": [],
   "source": [
    "#help(np.zeros)"
   ]
  },
  {
   "cell_type": "code",
   "execution_count": 50,
   "id": "73838b3c",
   "metadata": {},
   "outputs": [
    {
     "data": {
      "text/plain": [
       "array([0., 0., 0., 0., 0.])"
      ]
     },
     "execution_count": 50,
     "metadata": {},
     "output_type": "execute_result"
    }
   ],
   "source": [
    "np.zeros(5)"
   ]
  },
  {
   "cell_type": "code",
   "execution_count": 51,
   "id": "fbbfef5d",
   "metadata": {},
   "outputs": [
    {
     "data": {
      "text/plain": [
       "array([[1., 1., 1., 1., 1.],\n",
       "       [1., 1., 1., 1., 1.]])"
      ]
     },
     "execution_count": 51,
     "metadata": {},
     "output_type": "execute_result"
    }
   ],
   "source": [
    "np.ones((2,5))\n",
    "#Dos filas y 5 columnas"
   ]
  },
  {
   "cell_type": "markdown",
   "id": "f138c517",
   "metadata": {},
   "source": [
    "## Linspace\n",
    "***\n",
    "Crear con el intervalos uniformes"
   ]
  },
  {
   "cell_type": "code",
   "execution_count": 52,
   "id": "b9fd176e",
   "metadata": {},
   "outputs": [
    {
     "name": "stdout",
     "output_type": "stream",
     "text": [
      "[ 2.   5.6  9.2 12.8 16.4 20. ]\n"
     ]
    }
   ],
   "source": [
    "print(np.linspace(2,20, num = 6))"
   ]
  },
  {
   "cell_type": "code",
   "execution_count": 53,
   "id": "00d9cef2",
   "metadata": {},
   "outputs": [
    {
     "name": "stdout",
     "output_type": "stream",
     "text": [
      "[ 2.  5.  8. 11. 14. 17.]\n"
     ]
    }
   ],
   "source": [
    "print(np.linspace(2,20, num = 6, endpoint = False))"
   ]
  },
  {
   "cell_type": "code",
   "execution_count": 54,
   "id": "1c51a0fe",
   "metadata": {},
   "outputs": [
    {
     "name": "stdout",
     "output_type": "stream",
     "text": [
      "[  2.   4.   6.   8.  10.  12.  14.  16.  18.  20.  22.  24.  26.  28.\n",
      "  30.  32.  34.  36.  38.  40.  42.  44.  46.  48.  50.  52.  54.  56.\n",
      "  58.  60.  62.  64.  66.  68.  70.  72.  74.  76.  78.  80.  82.  84.\n",
      "  86.  88.  90.  92.  94.  96.  98. 100.]\n"
     ]
    }
   ],
   "source": [
    "print(np.linspace(2,100))\n",
    "#El numero por defecto de elementos es de 50"
   ]
  },
  {
   "cell_type": "code",
   "execution_count": 56,
   "id": "655804d4",
   "metadata": {},
   "outputs": [],
   "source": [
    "#help(np.linspace)"
   ]
  },
  {
   "cell_type": "markdown",
   "id": "855f2ba1",
   "metadata": {},
   "source": [
    "## Random\n",
    "***\n"
   ]
  },
  {
   "cell_type": "code",
   "execution_count": 59,
   "id": "5cf25de6",
   "metadata": {},
   "outputs": [
    {
     "name": "stdout",
     "output_type": "stream",
     "text": [
      "[0.75239634 0.27359429 0.51253244 0.61312753 0.49180682 0.90136544\n",
      " 0.11934346 0.89511112 0.3000797  0.15743109 0.06034071 0.47549721\n",
      " 0.31796448 0.82248885 0.56995246 0.88679854 0.58306955 0.93958717\n",
      " 0.79675962 0.30192247]\n"
     ]
    }
   ],
   "source": [
    "randUniform = np.random.rand(20)\n",
    "#De 0 a 1\n",
    "print(randUniform)"
   ]
  },
  {
   "cell_type": "code",
   "execution_count": 61,
   "id": "c0b93121",
   "metadata": {},
   "outputs": [
    {
     "name": "stdout",
     "output_type": "stream",
     "text": [
      "[ 0.248416   -2.04185458  1.06442283  0.36574589  0.15991997  0.17935834\n",
      " -0.16167384  0.46972374  0.38830459  1.50465056 -0.07536377  0.8082507\n",
      " -0.06693806 -1.40615749  0.09679623  0.32236615  0.28438758  1.4354372\n",
      " -0.90694819  0.26058153]\n"
     ]
    }
   ],
   "source": [
    "randNormal = np.random.randn(20)\n",
    "print(randNormal)"
   ]
  },
  {
   "cell_type": "code",
   "execution_count": 63,
   "id": "b3a9b354",
   "metadata": {},
   "outputs": [],
   "source": [
    "import matplotlib.pyplot as plt\n",
    "randUniform = np.random.rand(10000)"
   ]
  },
  {
   "cell_type": "code",
   "execution_count": 66,
   "id": "b67be445",
   "metadata": {},
   "outputs": [
    {
     "data": {
      "image/png": "[encoded data removed]",
      "text/plain": [
       "<Figure size 432x288 with 1 Axes>"
      ]
     },
     "metadata": {
      "needs_background": "light"
     },
     "output_type": "display_data"
    }
   ],
   "source": [
    "pdf, bins, patches = plt.hist(randUniform, bins = 100, range = (0,1), density = True)\n",
    "plt.title(\"Rand: Uniform\")\n",
    "plt.show()"
   ]
  },
  {
   "cell_type": "code",
   "execution_count": 69,
   "id": "56812c37",
   "metadata": {},
   "outputs": [
    {
     "data": {
      "image/png": "[encoded data removed]",
      "text/plain": [
       "<Figure size 432x288 with 1 Axes>"
      ]
     },
     "metadata": {
      "needs_background": "light"
     },
     "output_type": "display_data"
    }
   ],
   "source": [
    "randNormal = np.random.randn(10000)\n",
    "pdf, bins, patches = plt.hist(randNormal, bins = 100, range = (-4,4), density = True)\n",
    "plt.title(\"Rand: Normal\")\n",
    "plt.show()"
   ]
  },
  {
   "cell_type": "markdown",
   "id": "9af6c3c9",
   "metadata": {},
   "source": [
    "## Operaciones Matematicas \n",
    "***"
   ]
  },
  {
   "cell_type": "code",
   "execution_count": 70,
   "id": "edaf46d9",
   "metadata": {},
   "outputs": [
    {
     "data": {
      "text/plain": [
       "array([1, 2, 3, 4, 5, 6, 7, 8, 9])"
      ]
     },
     "execution_count": 70,
     "metadata": {},
     "output_type": "execute_result"
    }
   ],
   "source": [
    "arr1 = np.arange(1,10)\n",
    "arr1"
   ]
  },
  {
   "cell_type": "code",
   "execution_count": 72,
   "id": "9f78038d",
   "metadata": {},
   "outputs": [
    {
     "name": "stdout",
     "output_type": "stream",
     "text": [
      "[ 6  7  8  9 10 11 12 13 14]\n"
     ]
    }
   ],
   "source": [
    "print(arr1 + 5)"
   ]
  },
  {
   "cell_type": "code",
   "execution_count": 73,
   "id": "bc617082",
   "metadata": {},
   "outputs": [
    {
     "name": "stdout",
     "output_type": "stream",
     "text": [
      "[-4 -3 -2 -1  0  1  2  3  4]\n"
     ]
    }
   ],
   "source": [
    "print(arr1 - 5)"
   ]
  },
  {
   "cell_type": "code",
   "execution_count": 74,
   "id": "40fc04b0",
   "metadata": {},
   "outputs": [
    {
     "name": "stdout",
     "output_type": "stream",
     "text": [
      "[ 5 10 15 20 25 30 35 40 45]\n"
     ]
    }
   ],
   "source": [
    "print(arr1 * 5)"
   ]
  },
  {
   "cell_type": "code",
   "execution_count": 75,
   "id": "07179015",
   "metadata": {},
   "outputs": [
    {
     "name": "stdout",
     "output_type": "stream",
     "text": [
      "[0.2 0.4 0.6 0.8 1.  1.2 1.4 1.6 1.8]\n"
     ]
    }
   ],
   "source": [
    "print(arr1 / 5)"
   ]
  },
  {
   "cell_type": "code",
   "execution_count": 77,
   "id": "eddc374d",
   "metadata": {},
   "outputs": [
    {
     "data": {
      "text/plain": [
       "array([10., 20., 30., 40., 50., 60., 70., 80., 90.])"
      ]
     },
     "execution_count": 77,
     "metadata": {},
     "output_type": "execute_result"
    }
   ],
   "source": [
    "arr2 = np.linspace(10,90, num=9)\n",
    "arr2"
   ]
  },
  {
   "cell_type": "code",
   "execution_count": 78,
   "id": "231dd3ce",
   "metadata": {},
   "outputs": [
    {
     "data": {
      "text/plain": [
       "array([11., 22., 33., 44., 55., 66., 77., 88., 99.])"
      ]
     },
     "execution_count": 78,
     "metadata": {},
     "output_type": "execute_result"
    }
   ],
   "source": [
    "arr1 + arr2\n"
   ]
  },
  {
   "cell_type": "code",
   "execution_count": 79,
   "id": "6dfd7916",
   "metadata": {},
   "outputs": [
    {
     "data": {
      "text/plain": [
       "array([ -9., -18., -27., -36., -45., -54., -63., -72., -81.])"
      ]
     },
     "execution_count": 79,
     "metadata": {},
     "output_type": "execute_result"
    }
   ],
   "source": [
    "arr1 - arr2"
   ]
  },
  {
   "cell_type": "code",
   "execution_count": 80,
   "id": "faf391cd",
   "metadata": {},
   "outputs": [
    {
     "data": {
      "text/plain": [
       "array([ 10.,  40.,  90., 160., 250., 360., 490., 640., 810.])"
      ]
     },
     "execution_count": 80,
     "metadata": {},
     "output_type": "execute_result"
    }
   ],
   "source": [
    "arr1 * arr2"
   ]
  },
  {
   "cell_type": "code",
   "execution_count": 82,
   "id": "072fb30c",
   "metadata": {},
   "outputs": [
    {
     "data": {
      "text/plain": [
       "array([11., 22., 33., 44., 55., 66., 77., 88., 99.])"
      ]
     },
     "execution_count": 82,
     "metadata": {},
     "output_type": "execute_result"
    }
   ],
   "source": [
    "np.add(arr1, arr2)"
   ]
  },
  {
   "cell_type": "code",
   "execution_count": 84,
   "id": "5b3a1f16",
   "metadata": {},
   "outputs": [
    {
     "data": {
      "text/plain": [
       "array([ -9., -18., -27., -36., -45., -54., -63., -72., -81.])"
      ]
     },
     "execution_count": 84,
     "metadata": {},
     "output_type": "execute_result"
    }
   ],
   "source": [
    "np.subtract(arr1, arr2)"
   ]
  },
  {
   "cell_type": "markdown",
   "id": "1ca144a5",
   "metadata": {},
   "source": [
    "## Concatenar arrays\n",
    "***"
   ]
  },
  {
   "cell_type": "code",
   "execution_count": 89,
   "id": "eff75097",
   "metadata": {},
   "outputs": [
    {
     "data": {
      "text/plain": [
       "array([ 1,  2,  3,  4,  5,  6,  7,  8,  9, 10])"
      ]
     },
     "execution_count": 89,
     "metadata": {},
     "output_type": "execute_result"
    }
   ],
   "source": [
    "arr1 = np.array([1,2,3,4,5])\n",
    "arr2 = np.array([6,7,8,9,10])\n",
    "arr3 = np.concatenate((arr1, arr2))\n",
    "arr3"
   ]
  },
  {
   "cell_type": "code",
   "execution_count": 92,
   "id": "cd66cfd0",
   "metadata": {},
   "outputs": [
    {
     "data": {
      "text/plain": [
       "array([[1, 1],\n",
       "       [2, 2],\n",
       "       [3, 4],\n",
       "       [4, 5]])"
      ]
     },
     "execution_count": 92,
     "metadata": {},
     "output_type": "execute_result"
    }
   ],
   "source": [
    "arr4 = np.array([[1,1], [2,2]])\n",
    "arr5 = np.array([[3,4], [4,5]])\n",
    "arr6 = np.concatenate((arr4, arr5))\n",
    "arr6"
   ]
  },
  {
   "cell_type": "markdown",
   "id": "8ac180ae",
   "metadata": {},
   "source": [
    "## Stack\n",
    "***\n"
   ]
  },
  {
   "cell_type": "code",
   "execution_count": 97,
   "id": "88044b09",
   "metadata": {},
   "outputs": [
    {
     "data": {
      "text/plain": [
       "array([ 1,  2,  3,  4,  5,  6,  7,  8,  9, 10])"
      ]
     },
     "execution_count": 97,
     "metadata": {},
     "output_type": "execute_result"
    }
   ],
   "source": [
    "arr3.shape\n",
    "arr3"
   ]
  },
  {
   "cell_type": "code",
   "execution_count": 96,
   "id": "5cbbe4bc",
   "metadata": {},
   "outputs": [
    {
     "data": {
      "text/plain": [
       "array([[ 1,  2,  3,  4,  5],\n",
       "       [ 6,  7,  8,  9, 10]])"
      ]
     },
     "execution_count": 96,
     "metadata": {},
     "output_type": "execute_result"
    }
   ],
   "source": [
    "arr3a = np.stack((arr1, arr2))\n",
    "arr3a"
   ]
  },
  {
   "cell_type": "markdown",
   "id": "355bc037",
   "metadata": {},
   "source": [
    "## Vstack y Hstack\n",
    "***\n"
   ]
  },
  {
   "cell_type": "code",
   "execution_count": 98,
   "id": "579d9448",
   "metadata": {},
   "outputs": [
    {
     "data": {
      "text/plain": [
       "array([[ 1,  2,  3,  4,  5],\n",
       "       [ 6,  7,  8,  9, 10]])"
      ]
     },
     "execution_count": 98,
     "metadata": {},
     "output_type": "execute_result"
    }
   ],
   "source": [
    "arrV = np.vstack((arr1,arr2))\n",
    "arrV"
   ]
  },
  {
   "cell_type": "code",
   "execution_count": 100,
   "id": "5a6d415d",
   "metadata": {},
   "outputs": [
    {
     "data": {
      "text/plain": [
       "array([ 1,  2,  3,  4,  5,  6,  7,  8,  9, 10,  1,  2,  3,  4,  5])"
      ]
     },
     "execution_count": 100,
     "metadata": {},
     "output_type": "execute_result"
    }
   ],
   "source": [
    "arrH = np.hstack((arr1, arr2, arr1))\n",
    "arrH"
   ]
  },
  {
   "cell_type": "markdown",
   "id": "60d133d4",
   "metadata": {},
   "source": [
    "## Split\n",
    "***"
   ]
  },
  {
   "cell_type": "code",
   "execution_count": 105,
   "id": "89ba2bd8",
   "metadata": {},
   "outputs": [
    {
     "name": "stdout",
     "output_type": "stream",
     "text": [
      "[1 2 3 4 5]\n",
      "[array([1, 2, 3]), array([4, 5])]\n"
     ]
    }
   ],
   "source": [
    "print(arr1)\n",
    "print(np.array_split(arr1,2))"
   ]
  },
  {
   "cell_type": "code",
   "execution_count": 109,
   "id": "e2afa3e2",
   "metadata": {},
   "outputs": [
    {
     "name": "stdout",
     "output_type": "stream",
     "text": [
      "[[1 2 3]\n",
      " [4 5 6]]\n",
      "[array([[1, 2, 3]]), array([[4, 5, 6]])]\n",
      "[array([[1, 2, 3]]), array([[4, 5, 6]]), array([], shape=(0, 3), dtype=int32)]\n"
     ]
    }
   ],
   "source": [
    "print(arr2d)\n",
    "print(np.array_split(arr2d, 2))\n",
    "print(np.array_split(arr2d, 3))"
   ]
  },
  {
   "cell_type": "markdown",
   "id": "296a09e2",
   "metadata": {},
   "source": [
    "## INSERT, APPEND Y DELETE\n",
    "***"
   ]
  },
  {
   "cell_type": "code",
   "execution_count": 111,
   "id": "9b5935f4",
   "metadata": {},
   "outputs": [
    {
     "name": "stdout",
     "output_type": "stream",
     "text": [
      "[1 2 3 4 5 6 7 8 9]\n"
     ]
    },
    {
     "data": {
      "text/plain": [
       "array([  1,   2, 999,   3,   4,   5,   6,   7,   8,   9])"
      ]
     },
     "execution_count": 111,
     "metadata": {},
     "output_type": "execute_result"
    }
   ],
   "source": [
    "print(arr)\n",
    "np.insert(arr, 2, 999) #En cierta posición inserta el 999"
   ]
  },
  {
   "cell_type": "code",
   "execution_count": 116,
   "id": "56eb3b66",
   "metadata": {},
   "outputs": [
    {
     "name": "stdout",
     "output_type": "stream",
     "text": [
      "[1 2 3 4 5 6 7 8 9]\n"
     ]
    },
    {
     "data": {
      "text/plain": [
       "array([  1,   2,   3,   4,   5,   6,   7,   8,   9, 666])"
      ]
     },
     "execution_count": 116,
     "metadata": {},
     "output_type": "execute_result"
    }
   ],
   "source": [
    "print(arr) #Agrega un valor al final\n",
    "np.append(arr, 666)"
   ]
  },
  {
   "cell_type": "code",
   "execution_count": 117,
   "id": "88423236",
   "metadata": {},
   "outputs": [
    {
     "name": "stdout",
     "output_type": "stream",
     "text": [
      "[1 2 3 4 5 6 7 8 9]\n"
     ]
    },
    {
     "data": {
      "text/plain": [
       "array([1, 2, 3, 4, 6, 7, 8, 9])"
      ]
     },
     "execution_count": 117,
     "metadata": {},
     "output_type": "execute_result"
    }
   ],
   "source": [
    "print(arr) #Desaparece el valor de la lista que indiquemos.\n",
    "np.delete(arr, 4)"
   ]
  },
  {
   "cell_type": "code",
   "execution_count": null,
   "id": "63abd6f4",
   "metadata": {},
   "outputs": [],
   "source": []
  }
 ],
 "metadata": {
  "kernelspec": {
   "display_name": "Python 3",
   "language": "python",
   "name": "python3"
  },
  "language_info": {
   "codemirror_mode": {
    "name": "ipython",
    "version": 3
   },
   "file_extension": ".py",
   "mimetype": "text/x-python",
   "name": "python",
   "nbconvert_exporter": "python",
   "pygments_lexer": "ipython3",
   "version": "3.8.8"
  }
 },
 "nbformat": 4,
 "nbformat_minor": 5
}
